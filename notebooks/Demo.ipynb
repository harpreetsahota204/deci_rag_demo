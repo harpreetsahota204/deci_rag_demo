{
 "cells": [
  {
   "cell_type": "code",
   "execution_count": 1,
   "id": "cc177344-d586-4c6d-ab2a-b6ebfc209c60",
   "metadata": {},
   "outputs": [],
   "source": [
    "import os\n",
    "import sys\n",
    "\n",
    "import nest_asyncio\n",
    "\n",
    "nest_asyncio.apply()\n",
    "sys.path.append('../src')"
   ]
  },
  {
   "cell_type": "markdown",
   "id": "8384e9b6-03fb-414f-8475-8e076b411c0b",
   "metadata": {},
   "source": [
    "# Step 0: Setup LLM and Embedding Model"
   ]
  },
  {
   "cell_type": "code",
   "execution_count": 2,
   "id": "6f3040d8-ac17-48cc-81b2-cc697b321d08",
   "metadata": {},
   "outputs": [
    {
     "name": "stderr",
     "output_type": "stream",
     "text": [
      "/home/demotime/miniconda3/envs/decilm_rag/lib/python3.11/site-packages/torchvision/io/image.py:13: UserWarning: Failed to load image Python extension: ''If you don't plan on using image functionality from `torchvision.io`, you can ignore this warning. Otherwise, there might be something wrong with your environment. Did you have `libjpeg` or `libpng` installed before building `torchvision` from source?\n",
      "  warn(\n"
     ]
    },
    {
     "data": {
      "application/vnd.jupyter.widget-view+json": {
       "model_id": "521ba3725f764c8e8ab22283c9934b4f",
       "version_major": 2,
       "version_minor": 0
      },
      "text/plain": [
       "Loading checkpoint shards:   0%|          | 0/3 [00:00<?, ?it/s]"
      ]
     },
     "metadata": {},
     "output_type": "display_data"
    }
   ],
   "source": [
    "import setup_utils\n",
    "\n",
    "setup_utils.setup_llm()\n",
    "\n",
    "setup_utils.setup_embed_model()"
   ]
  },
  {
   "cell_type": "markdown",
   "id": "d880ce5a-3f0d-4eb2-89a8-c3305d4b14a3",
   "metadata": {},
   "source": [
    "# Step 1: Clean PDF"
   ]
  },
  {
   "cell_type": "code",
   "execution_count": 3,
   "id": "666aaab6-d825-47e8-9035-e1388fabd419",
   "metadata": {},
   "outputs": [],
   "source": [
    "from pathlib import Path\n",
    "import random\n",
    "\n",
    "import cleaning_utils\n",
    "\n",
    "pdf_directory = \"/home/demotime/DeciLM_RAG_Demo/SuperMicro_Solution_Brief\"\n",
    "\n",
    "pdf_files = Path(pdf_directory)\n",
    "\n",
    "pdf_files_paths = list(pdf_files.iterdir())\n",
    "\n",
    "# select two random solutions brief\n",
    "two_pdfs = random_paths = random.sample(pdf_files_paths, 2)"
   ]
  },
  {
   "cell_type": "code",
   "execution_count": 4,
   "id": "53e7c743-d3a4-4287-8cfb-83517226fdc6",
   "metadata": {},
   "outputs": [
    {
     "data": {
      "text/plain": [
       "[PosixPath('/home/demotime/DeciLM_RAG_Demo/SuperMicro_Solution_Brief/Solution-Brief_SuperCloud_Composer.pdf'),\n",
       " PosixPath('/home/demotime/DeciLM_RAG_Demo/SuperMicro_Solution_Brief/Solution-Brief_Workstations_Entertainment.pdf')]"
      ]
     },
     "execution_count": 4,
     "metadata": {},
     "output_type": "execute_result"
    }
   ],
   "source": [
    "two_pdfs"
   ]
  },
  {
   "cell_type": "code",
   "execution_count": 5,
   "id": "8227a156-eb44-4635-96e7-31fb4758dbe3",
   "metadata": {},
   "outputs": [
    {
     "name": "stdout",
     "output_type": "stream",
     "text": [
      "Processing /home/demotime/DeciLM_RAG_Demo/SuperMicro_Solution_Brief/Solution-Brief_SuperCloud_Composer.pdf...\n",
      "Processing /home/demotime/DeciLM_RAG_Demo/SuperMicro_Solution_Brief/Solution-Brief_Workstations_Entertainment.pdf...\n"
     ]
    }
   ],
   "source": [
    "cleaned_texts = []\n",
    "\n",
    "for pdf_file in two_pdfs:\n",
    "    file_metadata = {'file_name': pdf_file.name}\n",
    "    pdf_text = cleaning_utils.extract_and_process_text(str(pdf_file))\n",
    "    file_metadata['publication_date'], pdf_text = cleaning_utils.extract_and_remove_all_dates(pdf_text)\n",
    "    file_metadata['referenced_websites'], pdf_text = cleaning_utils.extract_and_remove_all_websites(pdf_text)\n",
    "    pdf_text = cleaning_utils.remove_dot_sequences(pdf_text)\n",
    "    pdf_text = cleaning_utils.remove_copyright_notice(pdf_text)\n",
    "    pdf_text = cleaning_utils.scrub_text(pdf_text)\n",
    "    pdf_text = cleaning_utils.remove_text_after_phrases(pdf_text)\n",
    "    \n",
    "    cleaned_texts.append((pdf_text, file_metadata))"
   ]
  },
  {
   "cell_type": "code",
   "execution_count": 6,
   "id": "a8600a52-6923-47ea-ac5a-95cd5953abd9",
   "metadata": {},
   "outputs": [
    {
     "data": {
      "text/plain": [
       "[('SUPERCLOUD COMPOSER Your Infrastructure Gateway SuperCloud Composer is a composable cloud management platform that provides a unified dashboard to administer software-defined data centers. Supermicro’s cloud infrastructure management software brings speed, agility, and simplicity to IT administration by integrating data center tasks into a single intelligent management solution. Our hybrid approach allows traditional paradigm data centers to continue to support their existing operations while allowing their current workloads to have the flexibility to move to a disaggregated infrastructure model. Our robust composer engine can orchestrate cloud workloads through a streamlined Redfish API. SuperCloud Composer also monitors and manages the broad portfolio of multi-generation Supermicro servers and third-party systems through its data center lifecycle management feature set from a single unified console. 1 Key Benefits 2 Features 3 Hardware and Software Requirements 11 Virtual Machine Appliance 11 Supported Server Platforms 12 SuperCloud Composer License 12 Supermicro is a global leader in high performance, green computing server technology and innovation. We provide our global customers with application-optimized servers and workstations customized with blade, storage, and GPU solutions. Our products offer proven reliability, superior design, and one of the industry’s broadest array of product configurations, to fit all computational needs. 2 Today’s modern data centers face the growing need for operating efficiency through cost reduction in IT spending. Supermicro understands that IT organizations require a management platform to span multiple generations of infrastructure technology. IT managers are faced with the ever-rising cost of technology refresh and scale-out of systems due to Big Data. The Intel Data Center Group estimates resources are underutilized at rates of up to 45 %, and data center operating efficiency is only at 50 %. In addition, PUE costs are increasing, data center real estate square footage prices are on the rise, and manpower hour rates are climbing exponentially. In addition, Patrick Nelson from Network World (Reference 1 ) estimates in-house server capacity to be in the range of 20% to 50% even when you factor in virtualization gains. The traditional IT paradigm resulted in a cumbersome hardware provisioning process, with a fixed ratio of computing, storage, accelerator resources, and a lack of a one-size-fits-all platform capable of monitoring, telemetry, analytics, and intelligent system management. The new SuperCloud Composer embodies Supermicro’s approach to software-defined and composable cloud solutions for future data centers. This provides you some of the key benefits and features of SuperCloud Composer and system requirements and licensing details of the solution. Key Benefits of SuperCloud Composer • A single-pane-of-glass platform with a streamlined, intuitive management interface • A standardized Redfish Northbound API Message Bus for easy third-party software platform integration • A scalable management platform without adding unnecessary complexity • A unified dashboard that encompasses compute, storage, networking, and rack management • The ability to monitor and manage all elements of the resource pools in a Composable Disaggregated Infrastructure (CDI) • Inherently software-defined and automated in support of multi-tiered datacenter-to-edge cloud infrastructure management • Role-based access control to support modern data center security policies • Rich analytics, telemetry, and intelligent system lifecycle management • Parallel multi-system upgrade and configuration capability reducing hardware maintenance downtime 3 Features Intelligent Data Center Management Network Storage Disaggregated Infrastructure Composed Node Administration of Management Appliance Comprehensive system health monitoring and alerting Top-of-rack (TOR) Network Provisioning utilizing streamlined GUI wizards JBOF management Integration support for GigaIOTM PCIe Switch OS deployment in seconds utilizing fast-deploy (Centos, RHEL Ubuntu) Support for SNMP v2 and SNMP v3 Rack management Powerful network configurator wizard that creates network template build plans Storage fabric configurator wizard that creates storage template build plans for NVMe network fabrics JBOF management Repository to store golden images for fast-deploy deployments Change IP address/CIDR of SCC appliance Device discovery and deep discovery Robust network orchestrator that utilizes a REST API gateway to push network configuration build plans to infrastructure fabric Creation of storage integration support, including GigaIO Switch JBOG management Operating provisioning utilizing PXE boot (ESX 6.8, RHEL 7.5, Ubuntu 18.04, 16.04, 14.04, SUSE Enterprise Linux 15.1, and Centos 7) DNS Pod management utilizing POD View Switch sweeper Management support for ISCSI initiators and targets Allocation of GPUs from a resource pool utilizing GigaIO PCIe fabric Software inventory to manage Kickstart and ISO images for PXE deployment NTP BMC access Switch configuration detail Management support for NVMe initiators and targets Allocation of NVMe storage from a resource pool utilizing GigaIO PCIe fabric Support to send logs to a Syslog server iKVM console Interface status and counters RAID management and storage controller monitoring for Broadcom 3008 and 3108 Dynamic fabric topology discovery Streamlined installation configuration wizard that utilizes Ansible Playbooks UID management MAC address table Fabric configuration and reporting BIOS harvesting Zero-touch provisioning Fabric representation persistence & recovery Asset Tagging Analytics of thermal and power for JBOG resource box Physical asset collateral and collection JBOG physical asset collection FRU management Interface status and counters DMI GPU monitoring 4 Dashboard Dashboard is an information management tool to provide aggregated views of POD health, visualized system data analytics, activity event timeline tracking utilizing standardized icon footprints, providing the administrator at a glance awareness of data center operations. Administrators can click on each component within the dashboard to learn more detailed metadata about system status, composed node status, and allocated storage. POD View The Pod View’s rack management solution provides Data Center operatives the flexibility to organize their data center requirements based on common workloads assigned to a rack deployment either at the edge or physical appliances within a Data Center that are miles away. 5 Network SuperCloud Composer (SCC) enforces a network blueprint where it constructs VLANs to partition specific workloads from segmented broadcast domain traffic. SuperCloud Composer utilizes a rich feature called network provisioning. It pushes build plans to data switches either as single-thread or multi- thread operations where Composer updates multiple switches simultaneously by shared or unique build plan templates. Build plan templates for data switches are constructed by a Network Configurator Wizard in JSON format and pushed by a Network Orchestrator engine utilizing industry standardized API calls. During network management operation, SuperCloud Composer also offers a rich, intelligent network agent called switch sweeper to maintain configuration compliance between original build plans constructed by network configurator and operational build plans within switch dynamic memory. 6 Fast OS Deployment and Provisioning During the fast-deploy composition phase, architects execute a composed new node wizard where snapshots of OS images are composed with customized metadata that has been ingested within the OS image. The architect instructs this customized metadata when performing the creation of a user-defined build template. 7 Composed Node and GigaIOTM PCIe Switch Integration SuperCloud Composer delivers a software-defined model, leveraging pools of Composable Disaggregated resources across GigaIO’s PCIe switch fabric for low latency workloads Supermicro’s software framework enables Administrators to deploy collections of fluid resources (GPU, FPGA, and NVMe flash) utilizing an intuitive provisioning wizard within seconds. Each composed system can allocate resources on-demand across a scalable GigaIO FabreX fabric and then return resources back to the pool for other systems. 8 Composable Rack-Scale Infrastructure Integration with GigaIO FabreX TOR Switch to deliver NVMe-oF, DAS performance with NAS sharing, and GPUDirect RDMA to GPU systems or JBOGs. 9 JBOF Management SuperCloud Composer uplifts the JBOF management experience by exposing an intuitive drive map tool giving the end-user visualization of drive level presence. 10 Physical Asset Collateral The compute module is a collection of monitored hosts that have been successfully registered by administrators. It is important to note that monitored hosts cannot perform simple system management tasks unless data center operatives complete drawer configuration functions during POD View execution. SuperCloud Composer provides an inventory of fluid pools of compute to manage physical fabric resources individually without entering the BMC webUI, allowing administrators to drill down and look at the physical attributes of a system. 11 Hardware and Software Requirements Standalone Server SYS-1019P-WTR (SuperServer 1019P-WTR) HA Server Configuration 2 of SYS-1019P-WTR (SuperServer 1019P-WTR) Motherboard Super X11SPW-TF CPU Single Socket P (LGA 3647) (Intel Xeon Scalable Processor) Memory 256GB SSD Drive 2X 1TB SATA set to Raid 1 Operating System Ubuntu 18.04 LTS Browser Chrome, Firefox Virtual Machine Appliance Hypervisor Support Centos, RHEL, VMware ESX Anti-affinity Group virtual machines across different hypervisors CPU Requires one unit of CPU, 16 core count Memory 256GB SSD Drive RAID SAN configuration of 1TB Operating System Ubuntu 18.04 LTS Browser Chrome, Firefox Hypervisor Support Centos, RHEL, VMware ESX 12 Supported Server Platforms (as of September 23rd, 2020) AS -2124BT-HNTR SYS-1019P-WTR SYS-2029U-E1CR4 SYS-6019P-WT SYS-7049GP-TRT AS -2124BT-HTR SYS-1029GP-TR SYS-2029U-E1CR4T SYS-6019P-WTR SYS-F619P2-RC0 MBE-314E-420 SYS-1029GQ-TRT SYS-2029U-E1CR25M SYS-6019U-TN4RT SYS-F619P2-RC1 MBE-628E-822 SYS-1029GQ-TVRT SYS-2029U-E1CRT SYS-6019U-TR4 SYS-F619P2-RT MBE-628L-816 SYS-1029GQ-TXRT SYS-2029U-E1CRTP SYS-6019U-TR4T SYS-F619P2-RTN SBE-414E-422 SYS-1029P-N32R SYS-2029TP-HC1R SYS-6019U-TR25M SYS-F629P3-RC0B SBE-610J-822 SYS-1029P-WTRT SYS-2029TP-HTR SYS-6019U-TRT SYS-F629P3-RC1B SBE-614E-822 SYS-1029U-E1CR4 SYS-2029U-TN24R4T SYS-6019U-TRTP2 SYS-F629P3-RTB SBE-820C-820 SYS-1029U-E1CR4T SYS-2029U-TR4 SYS-6019U-TRTP SYS-F629P3-RTBN SSE-F3548 SYS-1029U-E1CR25M SYS-2029U-TR4T SYS-6029BT-DNC0R SSE-F3548S SYS-1029U-E1CRT SYS-2029U-TR25M SYS-6029BT-HNC0R SSE-F3548SR SYS-1029U-E1CRTP2 SYS-2029U-TRT SYS-6029P-WTR SSE-G3648B SYS-1029U-E1CRTP SYS-2029U-TRTP SYS-6029TP-HC0R SSE-G3648BR SYS-1029U-TN10RT SYS-2029UZ-TN20R25M SYS-6029TP-HTR SSG-136R-N32JBF SYS-1029U-TR4 SYS-4029GP-TRT2 SYS-6029U-E1CR4 SSG-6029P-E1CR12H SYS-1029U-TR4T SYS-4029GP-TRT3 SYS-6029U-E1CR4T SSG-6029P-E1CR12T SYS-1029U-TR25M SYS-4029GP-TRT SYS-6029U-E1CR25M SSG-6029P-E1CR16T SYS-1029U-TRT SYS-4029GP-TVRT SYS-6029U-E1CRT SSG-6049P-E1CR24H SYS-1029U-TRTP2 SYS-5019P-MR SYS-6029U-E1CRTP SSG-6049P-E1CR36H SYS-1029U-TRTP SYS-5019P-MT SYS-6029U-TNR SSG-6049P-E1CR60L+ SYS-1029UZ-TN20R25M SYS-5019P-WT SYS-6029U-TR4 SYS-1019D-16C-FHN13TP SYS-2029BT-HNC0R SYS-5019P-WTR SYS-6029U-TR4T SYS-2029BT-HNTR SYS-5019S-MT SYS-6029U-TR25M SYS-2029BT-HTR SYS-5029P-WTR SYS-6029U-TRT SYS-2029GP-TR SYS-6019P-MT SYS-6029U-TRTP Licensing Requirements for BMC advanced features BMC Data Center Product SKU: SFT-DCMS-Single Note: SuperCloud Composer (SCC) enforces licensing keys for advanced data center BMC licensing and SCC monitor node license. SuperCloud Composer License Type of License Description SCC Appliance License P/N Trial License 90-day trial license with 200 monitored system activation See the hardware requirements above. SFT-SDDC-TRIAL (for SCC software and up to 200 systems managed) Monitor License (per node) Single monitored system license activation See the hardware requirements above. SFT-SDDC-SINGLE (1 license key per system managed by SCC appliance) BMC License DCMS License Monitored system SFT-DCMS-SINGLE (1 license key per system managed by SCC appliance) 13',\n",
       "  {'file_name': 'Solution-Brief_SuperCloud_Composer.pdf',\n",
       "   'publication_date': 'January 2021',\n",
       "   'referenced_websites': ['https://www.networkworld.com/article/2959532/startup-says-it-has-solved-server-']}),\n",
       " (\"1 Supermicro Workstation Family Media and Entertainment is a broad and diverse industry where companies are required to work and collaborate seamlessly to succeed. The ability to accelerate production workflows and gain value faster are top goals for today’s media companies. To stay ahead of the competition, leaders in the industry are implementing cutting-edge workstations to modernize their work environments. Advancements in virtual production, rendering, simulation, and artificial intelligence (AI) continue to propel the future of entertainment. Next generation workstations are the ideal foundation to reinvent how content is created, distributed, and consumed. These platforms combine robust compute technology, CPU and GPU acceleration, more memory, increased storage, and comprehensive management software to unlock high performance levels. 1 Partnering for Success 2 Modernizing A State-of-the-Art Production Environment 3 Summary 5 As a global leader in high performance, high efficiency server technology and innovation, we develop and provide end-to-end green computing solutions to the data center, cloud computing, enterprise IT, big data, HPC, and embedded markets. Our Building Block Solutions approach allows us to provide a broad range of SKUs, and enables us to build and deliver application- optimized solutions based upon your requirements. 2 Next generation workstations are powering the most advanced, visually rich feature films and television shows ever created. The latest platforms are engineered to deliver unparalleled compute and graphics capabilities. As a result, companies across the industry are seeing dramatic improvements in how they operate, using applications such as computer-aided design (CAD) and 2D and 3D design and animation. Media companies can gain significant advantages by adopting accelerated workstations: • Achieving cinematic quality results in less time, even using complex datasets • Increasing photo-realistic rendering throughput to accelerate creative design-making • Eliminating tedious or repetitive tasks so that artists can focus on high- value work Moving forward, visual computing solutions will be crucial to empower teams of artists, editors, and directors across disparate locations. The ideal work environment will be able to run a wide variety of applications with speed and precision. Partnering for Success Supermicro and NVIDIA are pioneering the next generation of visual computing to empower creativity and innovation. Together, we provide the correct visual computing solutions to improve the quality and speed of any production. Supermicro is a global leader in high-performance, high-efficiency technology, offering the broadest product portfolio for robust workstations. The goal is to enable the success of all customers. Supermicro achieves this through extensive engineering expertise and the industry’s broadest product portfolio, which offers green computing technologies that reduce energy costs, effectively allocate resources to tackle complex media workflows and drive down operational costs. In partnership with NVIDIA, we offer a range of performance-boosting solutions to help media companies work better, smarter, and faster. We build IT environments that deliver the efficiency, acceleration, and reliability that media teams depend on to share rapidly, review, and edit content. Leveraging first-to-market innovations from Supermicro and NVIDIA RTX technology, these workstations are purpose-built for unprecedented rendering, graphics, AI, and performance at scale to enhance any application. These server-grade workstations are expertly designed to optimize any application so that companies can complete critical projects in record time. Our joint technologies prepare media teams with computing power to execute a broad range of complex tasks: • Create highly sophisticated models, characters, and environments in real-time • Iterate more and render faster with unprecedented performance • Collaborate in real-time across popular content creation applications Media production requires powerful compute and graphics capabilities wherever you need to work: • High throughput and low latency to power diverse applications • Increased operational performance and reliability • Rapid refresh rates and up to 8K screen resolution • Greater memory and bandwidth to boost productivity 3 • Power massive virtual production stages in extended reality (XR) Supermicro workstations based on NVIDIA RTX technology provide high throughput over the previous generation, dramatically accelerating production pipelines, enabling higher-fidelity workflows, from interactive rendering to real-time virtual production. These applications enable a range of tasks, such as advanced scene composition for animated content, allowing companies to interactively assemble, light, simulate, and render scenes in real-time. That’s why major movie studios, post houses, and VFX studios trust Supermicro and NVIDIA workstation solutions to deliver the reliability, performance, and scalability they need to succeed. Modernizing A State-of-the-Art Production Environment Supermicro offers a comprehensive portfolio of workstations to meet the escalating demand for diverse and high-quality content. Supermicro workstations are fast, reliable, and cost-effective, utilizing enterprise-grade technologies tested and validated to meet an organization's specific application requirements. Each platform features a wide range of industry standard components that can be optimally configured to fit needs— including NVMe storage, industry-leading CPUs, and the extreme processing power of NVIDIA RTX. Solutions from Supermicro and NVIDIA offer a high degree of flexibility and upgradability fueled by unprecedented performance to support the rising need for graphics and AI wherever an enterprise's media teams need to work. Supermicro workstations are assembled and tested at a production facility in the USA. For EMEA and APAC companies, Supermicro builds workstations at production facilities in the Netherlands and Taiwan. Now, media companies worldwide can configure and deploy the ideal workstation to accelerate their unique workloads. Workstations from Supermicro and NVIDIA deliver the right tools to help media companies thrive: • Optimal application performance: Dramatically accelerate production pipelines, from previsualization through final frames • Rich, expansive visual workspaces: Increase production value on set while enabling real-time iterations • Proven reliability and improved manageability: Enterprise-class IT manageability, including configuration, monitoring, and diagnostic tools, with both local and remote access 4 5039A-I 5049A-T 5014A-TT Single-processor workstations provide exceptional power to execute graphics-intensive workloads at scale Entry-level configurations are engineered to be cost-efficient and efficient to empower teams using 3D modeling and design applications. Workstations are fully configurable and provide greater acceleration with server-grade reliability Mainstream configurations with advanced graphics capabilities deliver unparalleled performance for rendering. Designed for critical speed and compute capacity to optimize the most data-intensive workloads at scale, all with an energy efficient power supply Expert configurations with robust visual computing capabilities are designed to optimize high-end applications such as larger-scale rendering. - Intel Xeon W-2200 processor, up to 18 cores - 64GB DDR4-2933 Memory - NVIDIA RTX A4500 - 1TB M.2 NVMe + 6TB HDD - Windows 10/11 Pro 64 - 2nd Gen Intel Xeon Scalable processor, up to 28 cores total - 128GB DDR4-3200 Memory NVIDIA RTX A4500 - 2TB M.2 NVMe + 4x 3.8TB SSD - Windows 10/11 Pro 64 - AMD Ryzen Threadripper PRO 3900WX processor, up to 64 cores - 512GB DDR4-3200 Memory NVIDIA RTX A6000 - 3x 2TB M.2 PCIe Gen 4 NVMe in RAID 5 + 15TB U.2 PCIe Gen 4 SSD - Windows 10/11 Pro 64 5 Summary Supermicro and NVIDIA empower the media and entertainment industry to work, collaborate, and create content with incredible speed and stunning quality. Some of the largest production houses have adopted state-of-the-art workstations to work better, smarter, and faster than ever before. With solutions that are purpose-built to deliver competitive price-performance as well as reliable security and flexibility, media companies can execute any project with confidence as they push the boundaries of today’s artistic creations. In addition, organizations can benefit from solutions and capabilities that are the best in the industry: • Best performance: Highest memory and storage capacities available in a single tower system, featuring up to four passively cooled GPUs in tower form factor. Supermicro is the only manufacturer to offer up to four NVIDIA A100 Tensor Core GPUs in multiple models, with up to 80 cores, 4TB of memory, 61.44TB of NVMe, and optional DCPMM support. • Best expandability Up to six PCIe Gen4 x16 expansion slots, or up to four PCIe Gen4 M.2 with optional hardware RAID 0/1/5/10 support. • Best component selection: Supermicro validates a wide variety of memory, storage, and networking components with different specifications to help configure an optimized system for demanding needs without locking into one brand. • Best assembly and local support: All workstation systems shipped in the Americas are built and tested at Supermicro headquarters in San Jose, California, and include technical support services by in-house Supermicro engineers and product managers. Whether the team is building intricate 2D and 3D models, rendering photo-realistic designs, or simulating scenes, Supermicro and NVIDIA have the best product selections and configurations to boost a team's productivity. These solutions create an environment that allows media companies to scale faster and deliver the ultimate application experience to artists, editors, and directors everywhere. Together, Supermicro and NVIDIA can help anyone deploy the ideal workstation to optimize for specific media projects, from intensive graphics work to the cutting-edge of AI. It’s time for organizations to disrupt the entertainment industry. Visit Supermicro online to learn how.\",\n",
       "  {'file_name': 'Solution-Brief_Workstations_Entertainment.pdf',\n",
       "   'publication_date': 'December 2021',\n",
       "   'referenced_websites': ['https://www.supermicro.com/en/products/superworkstation']})]"
      ]
     },
     "execution_count": 6,
     "metadata": {},
     "output_type": "execute_result"
    }
   ],
   "source": [
    "cleaned_texts"
   ]
  },
  {
   "cell_type": "markdown",
   "id": "72b4e076-41a9-4a9e-8db0-25eac6bc7921",
   "metadata": {},
   "source": [
    "# Step 2: Load PDF to LlamaIndex `Document` Object"
   ]
  },
  {
   "cell_type": "code",
   "execution_count": 7,
   "id": "c33da82a-b476-431b-902b-fd7e695cf7f0",
   "metadata": {},
   "outputs": [],
   "source": [
    "import ingest\n",
    "\n",
    "documents = ingest.create_documents_from_clean_text(cleaned_texts)"
   ]
  },
  {
   "cell_type": "code",
   "execution_count": 8,
   "id": "f5fbd112-a700-4b8f-b779-c000e3d36fd4",
   "metadata": {},
   "outputs": [
    {
     "data": {
      "text/plain": [
       "{'id_': '018ae5b6-83a6-4257-9d8e-e9ac32c3424e',\n",
       " 'embedding': None,\n",
       " 'metadata': {'file_name': 'Solution-Brief_SuperCloud_Composer.pdf',\n",
       "  'publication_date': 'January 2021',\n",
       "  'referenced_websites': ['https://www.networkworld.com/article/2959532/startup-says-it-has-solved-server-']},\n",
       " 'excluded_embed_metadata_keys': [],\n",
       " 'excluded_llm_metadata_keys': ['file_name',\n",
       "  'publication_date',\n",
       "  'referenced_websites',\n",
       "  'section_summary',\n",
       "  'excerpt_keywords',\n",
       "  'questions_this_excerpt_can_answer'],\n",
       " 'relationships': {},\n",
       " 'text': 'SUPERCLOUD COMPOSER Your Infrastructure Gateway SuperCloud Composer is a composable cloud management platform that provides a unified dashboard to administer software-defined data centers. Supermicro’s cloud infrastructure management software brings speed, agility, and simplicity to IT administration by integrating data center tasks into a single intelligent management solution. Our hybrid approach allows traditional paradigm data centers to continue to support their existing operations while allowing their current workloads to have the flexibility to move to a disaggregated infrastructure model. Our robust composer engine can orchestrate cloud workloads through a streamlined Redfish API. SuperCloud Composer also monitors and manages the broad portfolio of multi-generation Supermicro servers and third-party systems through its data center lifecycle management feature set from a single unified console. 1 Key Benefits 2 Features 3 Hardware and Software Requirements 11 Virtual Machine Appliance 11 Supported Server Platforms 12 SuperCloud Composer License 12 Supermicro is a global leader in high performance, green computing server technology and innovation. We provide our global customers with application-optimized servers and workstations customized with blade, storage, and GPU solutions. Our products offer proven reliability, superior design, and one of the industry’s broadest array of product configurations, to fit all computational needs. 2 Today’s modern data centers face the growing need for operating efficiency through cost reduction in IT spending. Supermicro understands that IT organizations require a management platform to span multiple generations of infrastructure technology. IT managers are faced with the ever-rising cost of technology refresh and scale-out of systems due to Big Data. The Intel Data Center Group estimates resources are underutilized at rates of up to 45 %, and data center operating efficiency is only at 50 %. In addition, PUE costs are increasing, data center real estate square footage prices are on the rise, and manpower hour rates are climbing exponentially. In addition, Patrick Nelson from Network World (Reference 1 ) estimates in-house server capacity to be in the range of 20% to 50% even when you factor in virtualization gains. The traditional IT paradigm resulted in a cumbersome hardware provisioning process, with a fixed ratio of computing, storage, accelerator resources, and a lack of a one-size-fits-all platform capable of monitoring, telemetry, analytics, and intelligent system management. The new SuperCloud Composer embodies Supermicro’s approach to software-defined and composable cloud solutions for future data centers. This provides you some of the key benefits and features of SuperCloud Composer and system requirements and licensing details of the solution. Key Benefits of SuperCloud Composer • A single-pane-of-glass platform with a streamlined, intuitive management interface • A standardized Redfish Northbound API Message Bus for easy third-party software platform integration • A scalable management platform without adding unnecessary complexity • A unified dashboard that encompasses compute, storage, networking, and rack management • The ability to monitor and manage all elements of the resource pools in a Composable Disaggregated Infrastructure (CDI) • Inherently software-defined and automated in support of multi-tiered datacenter-to-edge cloud infrastructure management • Role-based access control to support modern data center security policies • Rich analytics, telemetry, and intelligent system lifecycle management • Parallel multi-system upgrade and configuration capability reducing hardware maintenance downtime 3 Features Intelligent Data Center Management Network Storage Disaggregated Infrastructure Composed Node Administration of Management Appliance Comprehensive system health monitoring and alerting Top-of-rack (TOR) Network Provisioning utilizing streamlined GUI wizards JBOF management Integration support for GigaIOTM PCIe Switch OS deployment in seconds utilizing fast-deploy (Centos, RHEL Ubuntu) Support for SNMP v2 and SNMP v3 Rack management Powerful network configurator wizard that creates network template build plans Storage fabric configurator wizard that creates storage template build plans for NVMe network fabrics JBOF management Repository to store golden images for fast-deploy deployments Change IP address/CIDR of SCC appliance Device discovery and deep discovery Robust network orchestrator that utilizes a REST API gateway to push network configuration build plans to infrastructure fabric Creation of storage integration support, including GigaIO Switch JBOG management Operating provisioning utilizing PXE boot (ESX 6.8, RHEL 7.5, Ubuntu 18.04, 16.04, 14.04, SUSE Enterprise Linux 15.1, and Centos 7) DNS Pod management utilizing POD View Switch sweeper Management support for ISCSI initiators and targets Allocation of GPUs from a resource pool utilizing GigaIO PCIe fabric Software inventory to manage Kickstart and ISO images for PXE deployment NTP BMC access Switch configuration detail Management support for NVMe initiators and targets Allocation of NVMe storage from a resource pool utilizing GigaIO PCIe fabric Support to send logs to a Syslog server iKVM console Interface status and counters RAID management and storage controller monitoring for Broadcom 3008 and 3108 Dynamic fabric topology discovery Streamlined installation configuration wizard that utilizes Ansible Playbooks UID management MAC address table Fabric configuration and reporting BIOS harvesting Zero-touch provisioning Fabric representation persistence & recovery Asset Tagging Analytics of thermal and power for JBOG resource box Physical asset collateral and collection JBOG physical asset collection FRU management Interface status and counters DMI GPU monitoring 4 Dashboard Dashboard is an information management tool to provide aggregated views of POD health, visualized system data analytics, activity event timeline tracking utilizing standardized icon footprints, providing the administrator at a glance awareness of data center operations. Administrators can click on each component within the dashboard to learn more detailed metadata about system status, composed node status, and allocated storage. POD View The Pod View’s rack management solution provides Data Center operatives the flexibility to organize their data center requirements based on common workloads assigned to a rack deployment either at the edge or physical appliances within a Data Center that are miles away. 5 Network SuperCloud Composer (SCC) enforces a network blueprint where it constructs VLANs to partition specific workloads from segmented broadcast domain traffic. SuperCloud Composer utilizes a rich feature called network provisioning. It pushes build plans to data switches either as single-thread or multi- thread operations where Composer updates multiple switches simultaneously by shared or unique build plan templates. Build plan templates for data switches are constructed by a Network Configurator Wizard in JSON format and pushed by a Network Orchestrator engine utilizing industry standardized API calls. During network management operation, SuperCloud Composer also offers a rich, intelligent network agent called switch sweeper to maintain configuration compliance between original build plans constructed by network configurator and operational build plans within switch dynamic memory. 6 Fast OS Deployment and Provisioning During the fast-deploy composition phase, architects execute a composed new node wizard where snapshots of OS images are composed with customized metadata that has been ingested within the OS image. The architect instructs this customized metadata when performing the creation of a user-defined build template. 7 Composed Node and GigaIOTM PCIe Switch Integration SuperCloud Composer delivers a software-defined model, leveraging pools of Composable Disaggregated resources across GigaIO’s PCIe switch fabric for low latency workloads Supermicro’s software framework enables Administrators to deploy collections of fluid resources (GPU, FPGA, and NVMe flash) utilizing an intuitive provisioning wizard within seconds. Each composed system can allocate resources on-demand across a scalable GigaIO FabreX fabric and then return resources back to the pool for other systems. 8 Composable Rack-Scale Infrastructure Integration with GigaIO FabreX TOR Switch to deliver NVMe-oF, DAS performance with NAS sharing, and GPUDirect RDMA to GPU systems or JBOGs. 9 JBOF Management SuperCloud Composer uplifts the JBOF management experience by exposing an intuitive drive map tool giving the end-user visualization of drive level presence. 10 Physical Asset Collateral The compute module is a collection of monitored hosts that have been successfully registered by administrators. It is important to note that monitored hosts cannot perform simple system management tasks unless data center operatives complete drawer configuration functions during POD View execution. SuperCloud Composer provides an inventory of fluid pools of compute to manage physical fabric resources individually without entering the BMC webUI, allowing administrators to drill down and look at the physical attributes of a system. 11 Hardware and Software Requirements Standalone Server SYS-1019P-WTR (SuperServer 1019P-WTR) HA Server Configuration 2 of SYS-1019P-WTR (SuperServer 1019P-WTR) Motherboard Super X11SPW-TF CPU Single Socket P (LGA 3647) (Intel Xeon Scalable Processor) Memory 256GB SSD Drive 2X 1TB SATA set to Raid 1 Operating System Ubuntu 18.04 LTS Browser Chrome, Firefox Virtual Machine Appliance Hypervisor Support Centos, RHEL, VMware ESX Anti-affinity Group virtual machines across different hypervisors CPU Requires one unit of CPU, 16 core count Memory 256GB SSD Drive RAID SAN configuration of 1TB Operating System Ubuntu 18.04 LTS Browser Chrome, Firefox Hypervisor Support Centos, RHEL, VMware ESX 12 Supported Server Platforms (as of September 23rd, 2020) AS -2124BT-HNTR SYS-1019P-WTR SYS-2029U-E1CR4 SYS-6019P-WT SYS-7049GP-TRT AS -2124BT-HTR SYS-1029GP-TR SYS-2029U-E1CR4T SYS-6019P-WTR SYS-F619P2-RC0 MBE-314E-420 SYS-1029GQ-TRT SYS-2029U-E1CR25M SYS-6019U-TN4RT SYS-F619P2-RC1 MBE-628E-822 SYS-1029GQ-TVRT SYS-2029U-E1CRT SYS-6019U-TR4 SYS-F619P2-RT MBE-628L-816 SYS-1029GQ-TXRT SYS-2029U-E1CRTP SYS-6019U-TR4T SYS-F619P2-RTN SBE-414E-422 SYS-1029P-N32R SYS-2029TP-HC1R SYS-6019U-TR25M SYS-F629P3-RC0B SBE-610J-822 SYS-1029P-WTRT SYS-2029TP-HTR SYS-6019U-TRT SYS-F629P3-RC1B SBE-614E-822 SYS-1029U-E1CR4 SYS-2029U-TN24R4T SYS-6019U-TRTP2 SYS-F629P3-RTB SBE-820C-820 SYS-1029U-E1CR4T SYS-2029U-TR4 SYS-6019U-TRTP SYS-F629P3-RTBN SSE-F3548 SYS-1029U-E1CR25M SYS-2029U-TR4T SYS-6029BT-DNC0R SSE-F3548S SYS-1029U-E1CRT SYS-2029U-TR25M SYS-6029BT-HNC0R SSE-F3548SR SYS-1029U-E1CRTP2 SYS-2029U-TRT SYS-6029P-WTR SSE-G3648B SYS-1029U-E1CRTP SYS-2029U-TRTP SYS-6029TP-HC0R SSE-G3648BR SYS-1029U-TN10RT SYS-2029UZ-TN20R25M SYS-6029TP-HTR SSG-136R-N32JBF SYS-1029U-TR4 SYS-4029GP-TRT2 SYS-6029U-E1CR4 SSG-6029P-E1CR12H SYS-1029U-TR4T SYS-4029GP-TRT3 SYS-6029U-E1CR4T SSG-6029P-E1CR12T SYS-1029U-TR25M SYS-4029GP-TRT SYS-6029U-E1CR25M SSG-6029P-E1CR16T SYS-1029U-TRT SYS-4029GP-TVRT SYS-6029U-E1CRT SSG-6049P-E1CR24H SYS-1029U-TRTP2 SYS-5019P-MR SYS-6029U-E1CRTP SSG-6049P-E1CR36H SYS-1029U-TRTP SYS-5019P-MT SYS-6029U-TNR SSG-6049P-E1CR60L+ SYS-1029UZ-TN20R25M SYS-5019P-WT SYS-6029U-TR4 SYS-1019D-16C-FHN13TP SYS-2029BT-HNC0R SYS-5019P-WTR SYS-6029U-TR4T SYS-2029BT-HNTR SYS-5019S-MT SYS-6029U-TR25M SYS-2029BT-HTR SYS-5029P-WTR SYS-6029U-TRT SYS-2029GP-TR SYS-6019P-MT SYS-6029U-TRTP Licensing Requirements for BMC advanced features BMC Data Center Product SKU: SFT-DCMS-Single Note: SuperCloud Composer (SCC) enforces licensing keys for advanced data center BMC licensing and SCC monitor node license. SuperCloud Composer License Type of License Description SCC Appliance License P/N Trial License 90-day trial license with 200 monitored system activation See the hardware requirements above. SFT-SDDC-TRIAL (for SCC software and up to 200 systems managed) Monitor License (per node) Single monitored system license activation See the hardware requirements above. SFT-SDDC-SINGLE (1 license key per system managed by SCC appliance) BMC License DCMS License Monitored system SFT-DCMS-SINGLE (1 license key per system managed by SCC appliance) 13',\n",
       " 'start_char_idx': None,\n",
       " 'end_char_idx': None,\n",
       " 'text_template': '{metadata_str}\\n\\n{content}',\n",
       " 'metadata_template': '{key}: {value}',\n",
       " 'metadata_seperator': '\\n\\n'}"
      ]
     },
     "execution_count": 8,
     "metadata": {},
     "output_type": "execute_result"
    }
   ],
   "source": [
    "documents[0].__dict__"
   ]
  },
  {
   "cell_type": "markdown",
   "id": "0998b9b0-fa3f-4ccb-a107-4b1cb7b25551",
   "metadata": {},
   "source": [
    "# Step 3: Split `Document` objects into chunks (`Nodes`) and attach metadata using `DeciLM-7B`"
   ]
  },
  {
   "cell_type": "code",
   "execution_count": 9,
   "id": "133a47cc-8fa2-4763-af7b-d1d370f98c5c",
   "metadata": {},
   "outputs": [],
   "source": [
    "from llama_index.core.extractors import QuestionsAnsweredExtractor, SummaryExtractor\n",
    "from llama_index.core.node_parser import TokenTextSplitter\n",
    "\n",
    "text_splitter = TokenTextSplitter(\n",
    "    separator=\" \", \n",
    "    chunk_size=512, \n",
    "    chunk_overlap=32,   \n",
    ")\n",
    "\n",
    "qa_extractor = QuestionsAnsweredExtractor(\n",
    "    questions=3, \n",
    "    num_workers=os.cpu_count(),\n",
    "    kwargs = {\"max_length\":128, \"temperature\": 0.001, \"do_sample\": True}\n",
    ")\n",
    "\n",
    "summary = SummaryExtractor(\n",
    "    summaries = [\"self\"], \n",
    "    num_workers=os.cpu_count(),\n",
    "    kwargs = {\"max_length\":128, \"temperature\": 0.001, \"do_sample\": True}\n",
    ")\n",
    "\n",
    "transforms = [text_splitter, qa_extractor, summary]"
   ]
  },
  {
   "cell_type": "code",
   "execution_count": 10,
   "id": "9a29c4ff-add4-4705-aff4-2b5f2952449b",
   "metadata": {},
   "outputs": [],
   "source": [
    "from llama_index.core.ingestion import IngestionPipeline\n",
    "\n",
    "pipeline = IngestionPipeline(transformations=transforms)"
   ]
  },
  {
   "cell_type": "code",
   "execution_count": 11,
   "id": "bcd4bab9-0560-43f7-94a2-5a257918b431",
   "metadata": {},
   "outputs": [
    {
     "data": {
      "application/vnd.jupyter.widget-view+json": {
       "model_id": "1ece3f65bceb4211992221e13dafc132",
       "version_major": 2,
       "version_minor": 0
      },
      "text/plain": [
       "Parsing nodes:   0%|          | 0/2 [00:00<?, ?it/s]"
      ]
     },
     "metadata": {},
     "output_type": "display_data"
    },
    {
     "name": "stderr",
     "output_type": "stream",
     "text": [
      "  0%|                                                                                                                                                                             | 0/12 [00:00<?, ?it/s]Setting `pad_token_id` to `eos_token_id`:2 for open-end generation.\n",
      "Setting `pad_token_id` to `eos_token_id`:2 for open-end generation.\n",
      "Setting `pad_token_id` to `eos_token_id`:2 for open-end generation.\n",
      "Setting `pad_token_id` to `eos_token_id`:2 for open-end generation.\n",
      "Setting `pad_token_id` to `eos_token_id`:2 for open-end generation.\n",
      "Setting `pad_token_id` to `eos_token_id`:2 for open-end generation.\n",
      "Setting `pad_token_id` to `eos_token_id`:2 for open-end generation.\n",
      "Setting `pad_token_id` to `eos_token_id`:2 for open-end generation.\n",
      "Setting `pad_token_id` to `eos_token_id`:2 for open-end generation.\n",
      "Setting `pad_token_id` to `eos_token_id`:2 for open-end generation.\n",
      "Setting `pad_token_id` to `eos_token_id`:2 for open-end generation.\n",
      "Setting `pad_token_id` to `eos_token_id`:2 for open-end generation.\n",
      "100%|████████████████████████████████████████████████████████████████████████████████████████████████████████████████████████████████████████████████████████████████████| 12/12 [00:59<00:00,  4.95s/it]\n",
      "  0%|                                                                                                                                                    | 0/12 [00:00<?, ?it/s]Setting `pad_token_id` to `eos_token_id`:2 for open-end generation.\n",
      "Setting `pad_token_id` to `eos_token_id`:2 for open-end generation.\n",
      "Setting `pad_token_id` to `eos_token_id`:2 for open-end generation.\n",
      "Setting `pad_token_id` to `eos_token_id`:2 for open-end generation.\n",
      "Setting `pad_token_id` to `eos_token_id`:2 for open-end generation.\n",
      "Setting `pad_token_id` to `eos_token_id`:2 for open-end generation.\n",
      "Setting `pad_token_id` to `eos_token_id`:2 for open-end generation.\n",
      "Setting `pad_token_id` to `eos_token_id`:2 for open-end generation.\n",
      "Setting `pad_token_id` to `eos_token_id`:2 for open-end generation.\n",
      "Setting `pad_token_id` to `eos_token_id`:2 for open-end generation.\n",
      "Setting `pad_token_id` to `eos_token_id`:2 for open-end generation.\n",
      "Setting `pad_token_id` to `eos_token_id`:2 for open-end generation.\n",
      "100%|███████████████████████████████████████████████████████████████████████████████████████████████████████████████████████████████████████████| 12/12 [00:56<00:00,  4.69s/it]\n"
     ]
    }
   ],
   "source": [
    "nodes = pipeline.run(documents=documents, in_place=True, show_progress=True)"
   ]
  },
  {
   "cell_type": "code",
   "execution_count": 12,
   "id": "903c4af9-009a-47e3-8bdd-5144efb1d726",
   "metadata": {},
   "outputs": [
    {
     "data": {
      "text/plain": [
       "12"
      ]
     },
     "execution_count": 12,
     "metadata": {},
     "output_type": "execute_result"
    }
   ],
   "source": [
    "len(nodes)"
   ]
  },
  {
   "cell_type": "code",
   "execution_count": 13,
   "id": "8ea6eb8b-e2fd-4a38-ace3-ccc7aa1524b5",
   "metadata": {},
   "outputs": [
    {
     "data": {
      "text/plain": [
       "{'id_': 'f080231e-306a-4ad2-bcb9-49274c6625c5',\n",
       " 'embedding': None,\n",
       " 'metadata': {'file_name': 'Solution-Brief_SuperCloud_Composer.pdf',\n",
       "  'publication_date': 'January 2021',\n",
       "  'referenced_websites': ['https://www.networkworld.com/article/2959532/startup-says-it-has-solved-server-'],\n",
       "  'questions_this_excerpt_can_answer': '1. What are the key benefits of SuperCloud Composer?\\n2. What are the main features of SuperCloud Composer?\\n3. What are the hardware and software requirements for SuperCloud Composer?',\n",
       "  'section_summary': 'The SuperCloud Composer is a cloud management platform that provides a unified dashboard to administer software-defined data centers. It offers key benefits such as speed, agility, and simplicity in IT administration, and integrates data center tasks into a single intelligent management solution. The platform supports a wide range of hardware and software requirements, including virtual machine appliances, supported server platforms, and SuperCloud Composer license. Supermicro is a global leader in high-performance, green computing server technology and innovation, providing application-optimized servers and workstations customized with blade, storage, and GPU solutions. The SuperCloud Composer is designed to address the growing need for operating efficiency through cost reduction in IT spending, and it is a solution for modern data centers facing the challenges of operating efficiency, cost reduction, and scale-out of systems due to Big Data.'},\n",
       " 'excluded_embed_metadata_keys': [],\n",
       " 'excluded_llm_metadata_keys': ['file_name',\n",
       "  'publication_date',\n",
       "  'referenced_websites',\n",
       "  'section_summary',\n",
       "  'excerpt_keywords',\n",
       "  'questions_this_excerpt_can_answer'],\n",
       " 'relationships': {<NodeRelationship.SOURCE: '1'>: RelatedNodeInfo(node_id='018ae5b6-83a6-4257-9d8e-e9ac32c3424e', node_type=<ObjectType.DOCUMENT: '4'>, metadata={'file_name': 'Solution-Brief_SuperCloud_Composer.pdf', 'publication_date': 'January 2021', 'referenced_websites': ['https://www.networkworld.com/article/2959532/startup-says-it-has-solved-server-']}, hash='e4d8e96b3c675b454ddb4a94e47be597c3981e902cfd42e1be1ea64b7ea21077'),\n",
       "  <NodeRelationship.NEXT: '3'>: RelatedNodeInfo(node_id='82a5eadf-0b53-4ec9-b8bc-4fbd5e38b8a3', node_type=<ObjectType.TEXT: '1'>, metadata={}, hash='e41c85ffe59b267af4a090f31c18aba723139e5d7ab79222324238e4cd199a7b')},\n",
       " 'text': 'SUPERCLOUD COMPOSER Your Infrastructure Gateway SuperCloud Composer is a composable cloud management platform that provides a unified dashboard to administer software-defined data centers. Supermicro’s cloud infrastructure management software brings speed, agility, and simplicity to IT administration by integrating data center tasks into a single intelligent management solution. Our hybrid approach allows traditional paradigm data centers to continue to support their existing operations while allowing their current workloads to have the flexibility to move to a disaggregated infrastructure model. Our robust composer engine can orchestrate cloud workloads through a streamlined Redfish API. SuperCloud Composer also monitors and manages the broad portfolio of multi-generation Supermicro servers and third-party systems through its data center lifecycle management feature set from a single unified console. 1 Key Benefits 2 Features 3 Hardware and Software Requirements 11 Virtual Machine Appliance 11 Supported Server Platforms 12 SuperCloud Composer License 12 Supermicro is a global leader in high performance, green computing server technology and innovation. We provide our global customers with application-optimized servers and workstations customized with blade, storage, and GPU solutions. Our products offer proven reliability, superior design, and one of the industry’s broadest array of product configurations, to fit all computational needs. 2 Today’s modern data centers face the growing need for operating efficiency through cost reduction in IT spending. Supermicro understands that IT organizations require a management platform to span multiple generations of infrastructure technology. IT managers are faced with the ever-rising cost of technology refresh and scale-out of systems due to Big Data. The Intel Data Center Group estimates resources are underutilized at rates of up to 45 %, and data center operating efficiency is only at 50 %. In addition, PUE costs are increasing, data center real estate square footage prices are on the rise, and manpower hour rates are climbing exponentially. In addition, Patrick Nelson from Network World (Reference 1 ) estimates in-house server capacity to be in the range of 20% to 50% even when you factor in virtualization gains. The traditional IT paradigm resulted in a cumbersome hardware provisioning process, with a fixed ratio of computing, storage, accelerator resources, and a lack of a one-size-fits-all platform capable of monitoring, telemetry, analytics, and intelligent system management. The new SuperCloud Composer embodies',\n",
       " 'start_char_idx': 0,\n",
       " 'end_char_idx': 2607,\n",
       " 'text_template': '[Excerpt from document]\\n{metadata_str}\\nExcerpt:\\n-----\\n{content}\\n-----\\n',\n",
       " 'metadata_template': '{key}: {value}',\n",
       " 'metadata_seperator': '\\n\\n'}"
      ]
     },
     "execution_count": 13,
     "metadata": {},
     "output_type": "execute_result"
    }
   ],
   "source": [
    "nodes[0].__dict__"
   ]
  },
  {
   "cell_type": "markdown",
   "id": "7839a82e-b73d-4c12-8b09-4a61599c6d6a",
   "metadata": {},
   "source": [
    "# Step 4: Store `Nodes` in vector database, and instantiate a retriever"
   ]
  },
  {
   "cell_type": "code",
   "execution_count": null,
   "id": "a74c2919-e148-45f9-aabd-fb5e7ca9076f",
   "metadata": {},
   "outputs": [],
   "source": [
    "from llama_index.core import VectorStoreIndex\n",
    "\n",
    "index = VectorStoreIndex(nodes)"
   ]
  },
  {
   "cell_type": "code",
   "execution_count": null,
   "id": "ddc315be-2a04-47b7-a159-a84b8269ccce",
   "metadata": {},
   "outputs": [],
   "source": [
    "query_engine = index.as_query_engine(streaming=True)"
   ]
  },
  {
   "cell_type": "markdown",
   "id": "a4b0a317-fbcc-4206-aceb-9d0011f9fbc4",
   "metadata": {},
   "source": [
    "# Step 5: Query vector database"
   ]
  },
  {
   "cell_type": "code",
   "execution_count": null,
   "id": "feadf1a8-4516-4539-9e7e-9d43f1a02fb9",
   "metadata": {},
   "outputs": [],
   "source": [
    "question = \"\"\" What are the potential challenges and limitations that businesses may\\\n",
    "face when implementing Cloudera Data Flow on Supermicro GrandTwin systems.\n",
    "\"\"\"\n",
    "\n",
    "query_engine.query(question).print_response_stream()"
   ]
  }
 ],
 "metadata": {
  "kernelspec": {
   "display_name": "decilm_rag",
   "language": "python",
   "name": "decilm_rag"
  },
  "language_info": {
   "codemirror_mode": {
    "name": "ipython",
    "version": 3
   },
   "file_extension": ".py",
   "mimetype": "text/x-python",
   "name": "python",
   "nbconvert_exporter": "python",
   "pygments_lexer": "ipython3",
   "version": "3.11.8"
  }
 },
 "nbformat": 4,
 "nbformat_minor": 5
}
