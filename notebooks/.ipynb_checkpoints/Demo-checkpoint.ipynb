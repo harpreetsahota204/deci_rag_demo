{
 "cells": [
  {
   "cell_type": "code",
   "execution_count": null,
   "id": "cc177344-d586-4c6d-ab2a-b6ebfc209c60",
   "metadata": {},
   "outputs": [],
   "source": [
    "import os\n",
    "import sys\n",
    "\n",
    "import nest_asyncio\n",
    "\n",
    "nest_asyncio.apply()\n",
    "sys.path.append('../src')"
   ]
  },
  {
   "cell_type": "markdown",
   "id": "8384e9b6-03fb-414f-8475-8e076b411c0b",
   "metadata": {},
   "source": [
    "# Step 0: Setup LLM and Embedding Model"
   ]
  },
  {
   "cell_type": "code",
   "execution_count": null,
   "id": "6f3040d8-ac17-48cc-81b2-cc697b321d08",
   "metadata": {},
   "outputs": [],
   "source": [
    "import setup_utils\n",
    "\n",
    "setup_utils.setup_llm()\n",
    "\n",
    "setup_utils.setup_embed_model()"
   ]
  },
  {
   "cell_type": "markdown",
   "id": "d880ce5a-3f0d-4eb2-89a8-c3305d4b14a3",
   "metadata": {},
   "source": [
    "# Step 1: Clean PDF"
   ]
  },
  {
   "cell_type": "code",
   "execution_count": null,
   "id": "666aaab6-d825-47e8-9035-e1388fabd419",
   "metadata": {},
   "outputs": [],
   "source": [
    "from pathlib import Path\n",
    "import random\n",
    "\n",
    "import cleaning_utils\n",
    "\n",
    "pdf_directory = \"/home/demotime/DeciLM_RAG_Demo/SuperMicro_Solution_Brief\"\n",
    "\n",
    "pdf_files = Path(pdf_directory)\n",
    "\n",
    "pdf_files_paths = list(pdf_files.iterdir())\n",
    "\n",
    "# select two random solutions brief\n",
    "two_pdfs = random_paths = random.sample(pdf_files_paths, 2)"
   ]
  },
  {
   "cell_type": "code",
   "execution_count": null,
   "id": "53e7c743-d3a4-4287-8cfb-83517226fdc6",
   "metadata": {},
   "outputs": [],
   "source": [
    "two_pdfs"
   ]
  },
  {
   "cell_type": "code",
   "execution_count": null,
   "id": "8227a156-eb44-4635-96e7-31fb4758dbe3",
   "metadata": {},
   "outputs": [],
   "source": [
    "cleaned_texts = []\n",
    "\n",
    "for pdf_file in two_pdfs:\n",
    "    file_metadata = {'file_name': pdf_file.name}\n",
    "    pdf_text = cleaning_utils.extract_and_process_text(str(pdf_file))\n",
    "    file_metadata['publication_date'], pdf_text = cleaning_utils.extract_and_remove_all_dates(pdf_text)\n",
    "    file_metadata['referenced_websites'], pdf_text = cleaning_utils.extract_and_remove_all_websites(pdf_text)\n",
    "    pdf_text = cleaning_utils.remove_dot_sequences(pdf_text)\n",
    "    pdf_text = cleaning_utils.remove_copyright_notice(pdf_text)\n",
    "    pdf_text = cleaning_utils.scrub_text(pdf_text)\n",
    "    pdf_text = cleaning_utils.remove_text_after_phrases(pdf_text)\n",
    "    \n",
    "    cleaned_texts.append((pdf_text, file_metadata))"
   ]
  },
  {
   "cell_type": "code",
   "execution_count": null,
   "id": "a8600a52-6923-47ea-ac5a-95cd5953abd9",
   "metadata": {},
   "outputs": [],
   "source": [
    "cleaned_texts"
   ]
  },
  {
   "cell_type": "markdown",
   "id": "72b4e076-41a9-4a9e-8db0-25eac6bc7921",
   "metadata": {},
   "source": [
    "# Step 2: Load PDF to LlamaIndex `Document` Object"
   ]
  },
  {
   "cell_type": "code",
   "execution_count": null,
   "id": "c33da82a-b476-431b-902b-fd7e695cf7f0",
   "metadata": {},
   "outputs": [],
   "source": [
    "import ingest\n",
    "\n",
    "documents = ingest.create_documents_from_clean_text(cleaned_texts)"
   ]
  },
  {
   "cell_type": "code",
   "execution_count": null,
   "id": "f5fbd112-a700-4b8f-b779-c000e3d36fd4",
   "metadata": {},
   "outputs": [],
   "source": [
    "documents[0].__dict__"
   ]
  },
  {
   "cell_type": "markdown",
   "id": "0998b9b0-fa3f-4ccb-a107-4b1cb7b25551",
   "metadata": {},
   "source": [
    "# Step 3: Split `Document` objects into chunks (`Nodes`) and attach metadata using `DeciLM-7B`"
   ]
  },
  {
   "cell_type": "code",
   "execution_count": null,
   "id": "133a47cc-8fa2-4763-af7b-d1d370f98c5c",
   "metadata": {},
   "outputs": [],
   "source": [
    "from llama_index.core.extractors import QuestionsAnsweredExtractor, SummaryExtractor\n",
    "from llama_index.core.node_parser import TokenTextSplitter\n",
    "\n",
    "text_splitter = TokenTextSplitter(\n",
    "    separator=\" \", \n",
    "    chunk_size=512, \n",
    "    chunk_overlap=32,   \n",
    ")\n",
    "\n",
    "qa_extractor = QuestionsAnsweredExtractor(\n",
    "    questions=3, \n",
    "    num_workers=os.cpu_count(),\n",
    "    kwargs = {\"max_length\":128, \"temperature\": 0.001, \"do_sample\": True}\n",
    ")\n",
    "\n",
    "summary = SummaryExtractor(\n",
    "    summaries = [\"self\"], \n",
    "    num_workers=os.cpu_count(),\n",
    "    kwargs = {\"max_length\":128, \"temperature\": 0.001, \"do_sample\": True}\n",
    ")\n",
    "\n",
    "transforms = [text_splitter, qa_extractor, summary]"
   ]
  },
  {
   "cell_type": "code",
   "execution_count": null,
   "id": "9a29c4ff-add4-4705-aff4-2b5f2952449b",
   "metadata": {},
   "outputs": [],
   "source": [
    "from llama_index.core.ingestion import IngestionPipeline\n",
    "\n",
    "pipeline = IngestionPipeline(transformations=transforms)"
   ]
  },
  {
   "cell_type": "code",
   "execution_count": null,
   "id": "bcd4bab9-0560-43f7-94a2-5a257918b431",
   "metadata": {},
   "outputs": [],
   "source": [
    "nodes = pipeline.run(documents=documents, in_place=True, show_progress=True)"
   ]
  },
  {
   "cell_type": "code",
   "execution_count": null,
   "id": "903c4af9-009a-47e3-8bdd-5144efb1d726",
   "metadata": {},
   "outputs": [],
   "source": [
    "len(nodes)"
   ]
  },
  {
   "cell_type": "code",
   "execution_count": null,
   "id": "8ea6eb8b-e2fd-4a38-ace3-ccc7aa1524b5",
   "metadata": {},
   "outputs": [],
   "source": [
    "nodes[0].__dict__"
   ]
  },
  {
   "cell_type": "markdown",
   "id": "7839a82e-b73d-4c12-8b09-4a61599c6d6a",
   "metadata": {},
   "source": [
    "# Step 4: Store `Nodes` in vector database, and instantiate a retriever"
   ]
  },
  {
   "cell_type": "code",
   "execution_count": null,
   "id": "a74c2919-e148-45f9-aabd-fb5e7ca9076f",
   "metadata": {},
   "outputs": [],
   "source": [
    "from llama_index.core import VectorStoreIndex\n",
    "\n",
    "index = VectorStoreIndex(nodes)"
   ]
  },
  {
   "cell_type": "code",
   "execution_count": null,
   "id": "ddc315be-2a04-47b7-a159-a84b8269ccce",
   "metadata": {},
   "outputs": [],
   "source": [
    "query_engine = index.as_query_engine(streaming=True)"
   ]
  },
  {
   "cell_type": "markdown",
   "id": "a4b0a317-fbcc-4206-aceb-9d0011f9fbc4",
   "metadata": {},
   "source": [
    "# Step 5: Query vector database"
   ]
  },
  {
   "cell_type": "code",
   "execution_count": null,
   "id": "feadf1a8-4516-4539-9e7e-9d43f1a02fb9",
   "metadata": {},
   "outputs": [],
   "source": [
    "question = \"\"\" What are the potential challenges and limitations that businesses may\\\n",
    "face when implementing Cloudera Data Flow on Supermicro GrandTwin systems.\n",
    "\"\"\"\n",
    "\n",
    "query_engine.query(question).print_response_stream()"
   ]
  }
 ],
 "metadata": {
  "kernelspec": {
   "display_name": "decilm_rag",
   "language": "python",
   "name": "decilm_rag"
  },
  "language_info": {
   "codemirror_mode": {
    "name": "ipython",
    "version": 3
   },
   "file_extension": ".py",
   "mimetype": "text/x-python",
   "name": "python",
   "nbconvert_exporter": "python",
   "pygments_lexer": "ipython3",
   "version": "3.11.8"
  }
 },
 "nbformat": 4,
 "nbformat_minor": 5
}
